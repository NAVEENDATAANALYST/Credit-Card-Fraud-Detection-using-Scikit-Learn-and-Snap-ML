{
 "cells": [
  {
   "cell_type": "markdown",
   "id": "0717523e",
   "metadata": {
    "papermill": {
     "duration": 0.024794,
     "end_time": "2023-07-09T10:05:32.562602",
     "exception": false,
     "start_time": "2023-07-09T10:05:32.537808",
     "status": "completed"
    },
    "tags": []
   },
   "source": [
    "# **Credit Card Fraud Detection using Scikit-Learn and Snap ML**\n"
   ]
  },
  {
   "cell_type": "markdown",
   "id": "c9342668",
   "metadata": {
    "papermill": {
     "duration": 0.023636,
     "end_time": "2023-07-09T10:05:32.611165",
     "exception": false,
     "start_time": "2023-07-09T10:05:32.587529",
     "status": "completed"
    },
    "tags": []
   },
   "source": [
    "**Snap ML** is a high-performance IBM library for ML modeling. It provides highly-efficient CPU/GPU implementations of linear models and tree-based models. Snap ML not only accelerates ML algorithms through system awareness, but also offers novel ML algorithms with best-in-class accuracy. For more information, please visit [here](https://ibm.biz/BdPfdW?utm_medium=Exinfluencer&utm_source=Exinfluencer&utm_content=000026UJ&utm_term=10006555&utm_id=NA-SkillsNetwork-Channel-SkillsNetworkGuidedProjectsIBMGPXX0RHPEN82-2022-01-01).\n"
   ]
  },
  {
   "cell_type": "markdown",
   "id": "008947e9",
   "metadata": {
    "papermill": {
     "duration": 0.023775,
     "end_time": "2023-07-09T10:05:32.658757",
     "exception": false,
     "start_time": "2023-07-09T10:05:32.634982",
     "status": "completed"
    },
    "tags": []
   },
   "source": [
    "In this project you will consolidate your machine learning (ML) modeling skills by using two popular classification models to recognize fraudulent credit card transactions. These models are: **Decision Tree and Support Vector Machine**. You will use a real dataset to train each of these models. The dataset includes information about transactions made by credit cards in September 2013 by European cardholders. You will use the trained model to assess if a credit card transaction is legitimate or not.\n",
    "\n",
    "<img src=\"https://cf-courses-data.s3.us.cloud-object-storage.appdomain.cloud/IBM-GPXX0RHPEN/images/creditcard.jpg\" width=\"70%\">\n"
   ]
  },
  {
   "cell_type": "markdown",
   "id": "68f5c406",
   "metadata": {
    "papermill": {
     "duration": 0.023489,
     "end_time": "2023-07-09T10:05:32.706219",
     "exception": false,
     "start_time": "2023-07-09T10:05:32.682730",
     "status": "completed"
    },
    "tags": []
   },
   "source": [
    "# Table of Contents\n"
   ]
  },
  {
   "cell_type": "markdown",
   "id": "5b0e07b3",
   "metadata": {
    "papermill": {
     "duration": 0.023655,
     "end_time": "2023-07-09T10:05:32.754574",
     "exception": false,
     "start_time": "2023-07-09T10:05:32.730919",
     "status": "completed"
    },
    "tags": []
   },
   "source": [
    "<ol>\n",
    "    <li><a href=\"#introduction\">Introduction</a></li>\n",
    "    <li><a href=\"#Setup\">Setup</a>\n",
    "        <ol>\n",
    "            <li><a href=\"https://#Installing-Required-Libraries\">Installing Required Libraries</a></li>\n",
    "            <li><a href=\"https://#Importing-Required-Libraries\">Importing Required Libraries</a></li>\n",
    "        </ol>\n",
    "    </li>\n",
    "    <li><a href=\"#Introduction\">Introduction</a></li>\n",
    "    <li><a href=\"#dataset_analysis\">Dataset Analysis</a></li>\n",
    "    <li><a href=\"#dataset_preprocessing\">Dataset Preprocessing</a></li>\n",
    "    <li><a href=\"#dataset_split\">Dataset Train/Test Split</a></li>\n",
    "    <li><a href=\"#Decision Trees\">Decision Trees</a>\n",
    "        <ol>\n",
    "            <li><a href=\"#dt_sklearn\">Build a Decision Tree Classifier with Scikit-Learn</a></li>\n",
    "            <li><a href=\"#dt_snap\">Build a Decision Tree Classifier with Snap ML</a></li>\n",
    "            <li><a href=\"#dt_sklearn_snap\">Evaluate the Scikit-Learn and Snap ML Decision Tree Classifiers</a></li>                     \n",
    "        </ol>           \n",
    "    </li>\n",
    "    <li><a href=\"#Support Vector Machines\">Support Vector Machines</a>\n",
    "        <ol>\n",
    "             <li><a href=\"#svm_sklearn\">Build a Support Vector Machine model with Scikit-Learn</a></li>\n",
    "            <li><a href=\"#svm_snap\">Build a Support Vector Machine model with Snap ML</a></li>\n",
    "            <li><a href=\"#svm_sklearn_snap\">Evaluate the Scikit-Learn and Snap ML Support Vector Machine Models</a></li>            \n",
    "        </ol>                \n",
    "    </li>\n",
    "</ol>\n"
   ]
  },
  {
   "cell_type": "markdown",
   "id": "9669b04d",
   "metadata": {
    "papermill": {
     "duration": 0.024625,
     "end_time": "2023-07-09T10:05:32.802966",
     "exception": false,
     "start_time": "2023-07-09T10:05:32.778341",
     "status": "completed"
    },
    "tags": []
   },
   "source": [
    "# Objectives\n"
   ]
  },
  {
   "cell_type": "markdown",
   "id": "25784f19",
   "metadata": {
    "papermill": {
     "duration": 0.02333,
     "end_time": "2023-07-09T10:05:32.850148",
     "exception": false,
     "start_time": "2023-07-09T10:05:32.826818",
     "status": "completed"
    },
    "tags": []
   },
   "source": [
    "After completing this project you will be able to:\n"
   ]
  },
  {
   "cell_type": "markdown",
   "id": "4e24b9c4",
   "metadata": {
    "papermill": {
     "duration": 0.023514,
     "end_time": "2023-07-09T10:05:32.897303",
     "exception": false,
     "start_time": "2023-07-09T10:05:32.873789",
     "status": "completed"
    },
    "tags": []
   },
   "source": [
    "* Perform basic data preprocessing in Python\n",
    "* Model a classification task using the Scikit-Learn and Snap ML Python APIs\n",
    "* Train Suppport Vector Machine and Decision Tree models using Scikit-Learn and Snap ML\n",
    "* Run inference and assess the quality of the trained models\n"
   ]
  },
  {
   "cell_type": "markdown",
   "id": "b31410d8",
   "metadata": {
    "papermill": {
     "duration": 0.023771,
     "end_time": "2023-07-09T10:05:32.945189",
     "exception": false,
     "start_time": "2023-07-09T10:05:32.921418",
     "status": "completed"
    },
    "tags": []
   },
   "source": [
    "----\n"
   ]
  },
  {
   "cell_type": "markdown",
   "id": "fedf87fe",
   "metadata": {
    "papermill": {
     "duration": 0.023491,
     "end_time": "2023-07-09T10:05:32.992398",
     "exception": false,
     "start_time": "2023-07-09T10:05:32.968907",
     "status": "completed"
    },
    "tags": []
   },
   "source": [
    "# Setup\n"
   ]
  },
  {
   "cell_type": "markdown",
   "id": "c8cd6471",
   "metadata": {
    "papermill": {
     "duration": 0.023419,
     "end_time": "2023-07-09T10:05:33.040777",
     "exception": false,
     "start_time": "2023-07-09T10:05:33.017358",
     "status": "completed"
    },
    "tags": []
   },
   "source": [
    "For this project project, we will be using the following libraries:\n",
    "\n",
    "*   [`pandas`](https://pandas.pydata.org/?utm_medium=Exinfluencer&utm_source=Exinfluencer&utm_content=000026UJ&utm_term=10006555&utm_id=NA-SkillsNetwork-Channel-SkillsNetworkCoursesIBMML0187ENSkillsNetwork31430127-2021-01-01) for managing the data.\n",
    "*   [`numpy`](https://numpy.org/?utm_medium=Exinfluencer&utm_source=Exinfluencer&utm_content=000026UJ&utm_term=10006555&utm_id=NA-SkillsNetwork-Channel-SkillsNetworkCoursesIBMML0187ENSkillsNetwork31430127-2021-01-01) for mathematical operations.\n",
    "*   [`sklearn`](https://scikit-learn.org/stable/?utm_medium=Exinfluencer&utm_source=Exinfluencer&utm_content=000026UJ&utm_term=10006555&utm_id=NA-SkillsNetwork-Channel-SkillsNetworkCoursesIBMML0187ENSkillsNetwork31430127-2021-01-01) for machine learning and machine-learning-pipeline related functions.\n",
    "*   [`seaborn`](https://seaborn.pydata.org/?utm_medium=Exinfluencer&utm_source=Exinfluencer&utm_content=000026UJ&utm_term=10006555&utm_id=NA-SkillsNetwork-Channel-SkillsNetworkCoursesIBMML0187ENSkillsNetwork31430127-2021-01-01) for visualizing the data.\n",
    "*   [`matplotlib`](https://matplotlib.org/?utm_medium=Exinfluencer&utm_source=Exinfluencer&utm_content=000026UJ&utm_term=10006555&utm_id=NA-SkillsNetwork-Channel-SkillsNetworkCoursesIBMML0187ENSkillsNetwork31430127-2021-01-01) for additional plotting tools.\n"
   ]
  },
  {
   "cell_type": "markdown",
   "id": "d0e2991b",
   "metadata": {
    "papermill": {
     "duration": 0.02354,
     "end_time": "2023-07-09T10:05:33.088206",
     "exception": false,
     "start_time": "2023-07-09T10:05:33.064666",
     "status": "completed"
    },
    "tags": []
   },
   "source": [
    "# Installing Required Libraries\n",
    "\n",
    "The following required libraries are pre-installed. However, if you run this notebook commands in a different Jupyter environment (e.g. Watson Studio or Anaconda), you will need to install these libraries by removing the `#` sign before `!pip` in the code cell below.\n"
   ]
  },
  {
   "cell_type": "code",
   "execution_count": 1,
   "id": "a74d3a04",
   "metadata": {
    "execution": {
     "iopub.execute_input": "2023-07-09T10:05:33.139199Z",
     "iopub.status.busy": "2023-07-09T10:05:33.138323Z",
     "iopub.status.idle": "2023-07-09T10:05:33.144418Z",
     "shell.execute_reply": "2023-07-09T10:05:33.143230Z"
    },
    "papermill": {
     "duration": 0.038887,
     "end_time": "2023-07-09T10:05:33.150975",
     "exception": false,
     "start_time": "2023-07-09T10:05:33.112088",
     "status": "completed"
    },
    "tags": []
   },
   "outputs": [],
   "source": [
    "# All Libraries required for this lab are listed below. The libraries pre-installed on Skills Network Labs are commented.\n",
    "#!pip install -qy pandas==1.3.4 numpy==1.21.4 seaborn==0.9.0 matplotlib==3.5.0 scikit-learn==0.20.1\n",
    "# Note: If your environment doesn't support \"!mamba install\", use \"!pip install\""
   ]
  },
  {
   "cell_type": "markdown",
   "id": "38331acb",
   "metadata": {
    "papermill": {
     "duration": 0.024499,
     "end_time": "2023-07-09T10:05:33.200302",
     "exception": false,
     "start_time": "2023-07-09T10:05:33.175803",
     "status": "completed"
    },
    "tags": []
   },
   "source": [
    "The following required libraries are __not__ pre-installed. __You will need to run the following cell__ to install them:\n"
   ]
  },
  {
   "cell_type": "code",
   "execution_count": 2,
   "id": "2d1b6053",
   "metadata": {
    "execution": {
     "iopub.execute_input": "2023-07-09T10:05:33.251389Z",
     "iopub.status.busy": "2023-07-09T10:05:33.250990Z",
     "iopub.status.idle": "2023-07-09T10:05:49.194123Z",
     "shell.execute_reply": "2023-07-09T10:05:49.192769Z"
    },
    "papermill": {
     "duration": 15.971836,
     "end_time": "2023-07-09T10:05:49.197015",
     "exception": false,
     "start_time": "2023-07-09T10:05:33.225179",
     "status": "completed"
    },
    "tags": []
   },
   "outputs": [
    {
     "name": "stdout",
     "output_type": "stream",
     "text": [
      "Collecting snapml\r\n",
      "  Downloading snapml-1.14.0-cp310-cp310-manylinux2014_x86_64.whl (7.4 MB)\r\n",
      "\u001b[2K     \u001b[90m━━━━━━━━━━━━━━━━━━━━━━━━━━━━━━━━━━━━━━━━\u001b[0m \u001b[32m7.4/7.4 MB\u001b[0m \u001b[31m42.3 MB/s\u001b[0m eta \u001b[36m0:00:00\u001b[0m\r\n",
      "\u001b[?25hRequirement already satisfied: scikit-learn in /opt/conda/lib/python3.10/site-packages (from snapml) (1.2.2)\r\n",
      "Requirement already satisfied: scipy in /opt/conda/lib/python3.10/site-packages (from snapml) (1.10.1)\r\n",
      "Requirement already satisfied: numpy>=1.21.3 in /opt/conda/lib/python3.10/site-packages (from snapml) (1.23.5)\r\n",
      "Requirement already satisfied: joblib>=1.1.1 in /opt/conda/lib/python3.10/site-packages (from scikit-learn->snapml) (1.2.0)\r\n",
      "Requirement already satisfied: threadpoolctl>=2.0.0 in /opt/conda/lib/python3.10/site-packages (from scikit-learn->snapml) (3.1.0)\r\n",
      "Installing collected packages: snapml\r\n",
      "Successfully installed snapml-1.14.0\r\n",
      "\u001b[33mWARNING: Running pip as the 'root' user can result in broken permissions and conflicting behaviour with the system package manager. It is recommended to use a virtual environment instead: https://pip.pypa.io/warnings/venv\u001b[0m\u001b[33m\r\n",
      "\u001b[0m"
     ]
    }
   ],
   "source": [
    "!pip install snapml"
   ]
  },
  {
   "cell_type": "markdown",
   "id": "f33866e7",
   "metadata": {
    "papermill": {
     "duration": 0.025297,
     "end_time": "2023-07-09T10:05:49.247470",
     "exception": false,
     "start_time": "2023-07-09T10:05:49.222173",
     "status": "completed"
    },
    "tags": []
   },
   "source": [
    "# Importing Required Libraries"
   ]
  },
  {
   "cell_type": "code",
   "execution_count": 3,
   "id": "c59242da",
   "metadata": {
    "execution": {
     "iopub.execute_input": "2023-07-09T10:05:49.302058Z",
     "iopub.status.busy": "2023-07-09T10:05:49.301602Z",
     "iopub.status.idle": "2023-07-09T10:05:50.751270Z",
     "shell.execute_reply": "2023-07-09T10:05:50.750104Z"
    },
    "papermill": {
     "duration": 1.479208,
     "end_time": "2023-07-09T10:05:50.753841",
     "exception": false,
     "start_time": "2023-07-09T10:05:49.274633",
     "status": "completed"
    },
    "tags": []
   },
   "outputs": [],
   "source": [
    "# Import the libraries we need to use in this lab\n",
    "import warnings\n",
    "warnings.filterwarnings('ignore')\n",
    "\n",
    "# from __future__ import print_function\n",
    "import numpy as np\n",
    "import pandas as pd\n",
    "import matplotlib.pyplot as plt\n",
    "%matplotlib inline\n",
    "\n",
    "from sklearn.model_selection import train_test_split\n",
    "from sklearn.preprocessing import normalize, StandardScaler\n",
    "from sklearn.utils.class_weight import compute_sample_weight\n",
    "from sklearn.metrics import roc_auc_score\n",
    "import time\n",
    "import gc, sys"
   ]
  },
  {
   "cell_type": "markdown",
   "id": "48d2525c",
   "metadata": {
    "papermill": {
     "duration": 0.024615,
     "end_time": "2023-07-09T10:05:50.803926",
     "exception": false,
     "start_time": "2023-07-09T10:05:50.779311",
     "status": "completed"
    },
    "tags": []
   },
   "source": [
    "# Introduction\n"
   ]
  },
  {
   "cell_type": "markdown",
   "id": "e2ec61b2",
   "metadata": {
    "papermill": {
     "duration": 0.02453,
     "end_time": "2023-07-09T10:05:50.853206",
     "exception": false,
     "start_time": "2023-07-09T10:05:50.828676",
     "status": "completed"
    },
    "tags": []
   },
   "source": [
    "Imagine that you work for a financial institution and part of your job is to build a model that predicts if a credit card transaction is fraudulent or not. You can model the problem as a binary classification problem. A transaction belongs to the positive class (1) if it is a fraud, otherwise it belongs to the negative class (0).\n"
   ]
  },
  {
   "cell_type": "markdown",
   "id": "6211bf3c",
   "metadata": {
    "papermill": {
     "duration": 0.026412,
     "end_time": "2023-07-09T10:05:50.904484",
     "exception": false,
     "start_time": "2023-07-09T10:05:50.878072",
     "status": "completed"
    },
    "tags": []
   },
   "source": [
    "As a Data Scientist, you have access to transactions that occured over a certain period of time. The majority of the transactions are normally legitimate and only a small fraction are non-legitimate. Thus, typically you have access to a dataset that is highly unbalanced. This is also the case of the current dataset: only 492 transactions out of 284,807 are fraudulent (the positive class - the frauds - accounts for 0.172% of all transactions).\n",
    "\n",
    "To train the model you can use part of the input dataset and the remaining data can be used to assess the quality of the trained model. First, let's download the dataset. \n",
    "\n",
    "The dataset is the [Credit Card Fraud Detection](https://www.kaggle.com/datasets/mlg-ulb/creditcardfraud?utm_medium=Exinfluencer&utm_source=Exinfluencer&utm_content=000026UJ&utm_term=10006555&utm_id=NA-SkillsNetwork-Channel-SkillsNetworkGuidedProjectsIBMGPXX0RHPEN82-2022-01-01) dataset from Kaggle.\n"
   ]
  },
  {
   "cell_type": "markdown",
   "id": "98a0b0ca",
   "metadata": {
    "papermill": {
     "duration": 0.025018,
     "end_time": "2023-07-09T10:05:50.954393",
     "exception": false,
     "start_time": "2023-07-09T10:05:50.929375",
     "status": "completed"
    },
    "tags": []
   },
   "source": [
    "# Dataset Analysis\n"
   ]
  },
  {
   "cell_type": "markdown",
   "id": "ac38a4e8",
   "metadata": {
    "papermill": {
     "duration": 0.025301,
     "end_time": "2023-07-09T10:05:51.005096",
     "exception": false,
     "start_time": "2023-07-09T10:05:50.979795",
     "status": "completed"
    },
    "tags": []
   },
   "source": [
    "In this section you will read the dataset in a Pandas dataframe and visualize its content. You will also look at some data statistics. \n",
    "\n",
    "Note: A Pandas dataframe is a two-dimensional, size-mutable, potentially heterogeneous tabular data structure. For more information, click [here](https://pandas.pydata.org/docs/reference/api/pandas.DataFrame.html?utm_medium=Exinfluencer&utm_source=Exinfluencer&utm_content=000026UJ&utm_term=10006555&utm_id=NA-SkillsNetwork-Channel-SkillsNetworkGuidedProjectsIBMGPXX0RHPEN82-2022-01-01). \n"
   ]
  },
  {
   "cell_type": "code",
   "execution_count": 4,
   "id": "1a6f4c6e",
   "metadata": {
    "execution": {
     "iopub.execute_input": "2023-07-09T10:05:51.057274Z",
     "iopub.status.busy": "2023-07-09T10:05:51.056840Z",
     "iopub.status.idle": "2023-07-09T10:05:56.161395Z",
     "shell.execute_reply": "2023-07-09T10:05:56.160285Z"
    },
    "papermill": {
     "duration": 5.133443,
     "end_time": "2023-07-09T10:05:56.163805",
     "exception": false,
     "start_time": "2023-07-09T10:05:51.030362",
     "status": "completed"
    },
    "tags": []
   },
   "outputs": [
    {
     "name": "stdout",
     "output_type": "stream",
     "text": [
      "There are 284807 observations in the credit card fraud dataset.\n",
      "There are 31 variables in the dataset.\n"
     ]
    },
    {
     "data": {
      "text/html": [
       "<div>\n",
       "<style scoped>\n",
       "    .dataframe tbody tr th:only-of-type {\n",
       "        vertical-align: middle;\n",
       "    }\n",
       "\n",
       "    .dataframe tbody tr th {\n",
       "        vertical-align: top;\n",
       "    }\n",
       "\n",
       "    .dataframe thead th {\n",
       "        text-align: right;\n",
       "    }\n",
       "</style>\n",
       "<table border=\"1\" class=\"dataframe\">\n",
       "  <thead>\n",
       "    <tr style=\"text-align: right;\">\n",
       "      <th></th>\n",
       "      <th>Time</th>\n",
       "      <th>V1</th>\n",
       "      <th>V2</th>\n",
       "      <th>V3</th>\n",
       "      <th>V4</th>\n",
       "      <th>V5</th>\n",
       "      <th>V6</th>\n",
       "      <th>V7</th>\n",
       "      <th>V8</th>\n",
       "      <th>V9</th>\n",
       "      <th>...</th>\n",
       "      <th>V21</th>\n",
       "      <th>V22</th>\n",
       "      <th>V23</th>\n",
       "      <th>V24</th>\n",
       "      <th>V25</th>\n",
       "      <th>V26</th>\n",
       "      <th>V27</th>\n",
       "      <th>V28</th>\n",
       "      <th>Amount</th>\n",
       "      <th>Class</th>\n",
       "    </tr>\n",
       "  </thead>\n",
       "  <tbody>\n",
       "    <tr>\n",
       "      <th>0</th>\n",
       "      <td>0.0</td>\n",
       "      <td>-1.359807</td>\n",
       "      <td>-0.072781</td>\n",
       "      <td>2.536347</td>\n",
       "      <td>1.378155</td>\n",
       "      <td>-0.338321</td>\n",
       "      <td>0.462388</td>\n",
       "      <td>0.239599</td>\n",
       "      <td>0.098698</td>\n",
       "      <td>0.363787</td>\n",
       "      <td>...</td>\n",
       "      <td>-0.018307</td>\n",
       "      <td>0.277838</td>\n",
       "      <td>-0.110474</td>\n",
       "      <td>0.066928</td>\n",
       "      <td>0.128539</td>\n",
       "      <td>-0.189115</td>\n",
       "      <td>0.133558</td>\n",
       "      <td>-0.021053</td>\n",
       "      <td>149.62</td>\n",
       "      <td>0</td>\n",
       "    </tr>\n",
       "    <tr>\n",
       "      <th>1</th>\n",
       "      <td>0.0</td>\n",
       "      <td>1.191857</td>\n",
       "      <td>0.266151</td>\n",
       "      <td>0.166480</td>\n",
       "      <td>0.448154</td>\n",
       "      <td>0.060018</td>\n",
       "      <td>-0.082361</td>\n",
       "      <td>-0.078803</td>\n",
       "      <td>0.085102</td>\n",
       "      <td>-0.255425</td>\n",
       "      <td>...</td>\n",
       "      <td>-0.225775</td>\n",
       "      <td>-0.638672</td>\n",
       "      <td>0.101288</td>\n",
       "      <td>-0.339846</td>\n",
       "      <td>0.167170</td>\n",
       "      <td>0.125895</td>\n",
       "      <td>-0.008983</td>\n",
       "      <td>0.014724</td>\n",
       "      <td>2.69</td>\n",
       "      <td>0</td>\n",
       "    </tr>\n",
       "    <tr>\n",
       "      <th>2</th>\n",
       "      <td>1.0</td>\n",
       "      <td>-1.358354</td>\n",
       "      <td>-1.340163</td>\n",
       "      <td>1.773209</td>\n",
       "      <td>0.379780</td>\n",
       "      <td>-0.503198</td>\n",
       "      <td>1.800499</td>\n",
       "      <td>0.791461</td>\n",
       "      <td>0.247676</td>\n",
       "      <td>-1.514654</td>\n",
       "      <td>...</td>\n",
       "      <td>0.247998</td>\n",
       "      <td>0.771679</td>\n",
       "      <td>0.909412</td>\n",
       "      <td>-0.689281</td>\n",
       "      <td>-0.327642</td>\n",
       "      <td>-0.139097</td>\n",
       "      <td>-0.055353</td>\n",
       "      <td>-0.059752</td>\n",
       "      <td>378.66</td>\n",
       "      <td>0</td>\n",
       "    </tr>\n",
       "    <tr>\n",
       "      <th>3</th>\n",
       "      <td>1.0</td>\n",
       "      <td>-0.966272</td>\n",
       "      <td>-0.185226</td>\n",
       "      <td>1.792993</td>\n",
       "      <td>-0.863291</td>\n",
       "      <td>-0.010309</td>\n",
       "      <td>1.247203</td>\n",
       "      <td>0.237609</td>\n",
       "      <td>0.377436</td>\n",
       "      <td>-1.387024</td>\n",
       "      <td>...</td>\n",
       "      <td>-0.108300</td>\n",
       "      <td>0.005274</td>\n",
       "      <td>-0.190321</td>\n",
       "      <td>-1.175575</td>\n",
       "      <td>0.647376</td>\n",
       "      <td>-0.221929</td>\n",
       "      <td>0.062723</td>\n",
       "      <td>0.061458</td>\n",
       "      <td>123.50</td>\n",
       "      <td>0</td>\n",
       "    </tr>\n",
       "    <tr>\n",
       "      <th>4</th>\n",
       "      <td>2.0</td>\n",
       "      <td>-1.158233</td>\n",
       "      <td>0.877737</td>\n",
       "      <td>1.548718</td>\n",
       "      <td>0.403034</td>\n",
       "      <td>-0.407193</td>\n",
       "      <td>0.095921</td>\n",
       "      <td>0.592941</td>\n",
       "      <td>-0.270533</td>\n",
       "      <td>0.817739</td>\n",
       "      <td>...</td>\n",
       "      <td>-0.009431</td>\n",
       "      <td>0.798278</td>\n",
       "      <td>-0.137458</td>\n",
       "      <td>0.141267</td>\n",
       "      <td>-0.206010</td>\n",
       "      <td>0.502292</td>\n",
       "      <td>0.219422</td>\n",
       "      <td>0.215153</td>\n",
       "      <td>69.99</td>\n",
       "      <td>0</td>\n",
       "    </tr>\n",
       "  </tbody>\n",
       "</table>\n",
       "<p>5 rows × 31 columns</p>\n",
       "</div>"
      ],
      "text/plain": [
       "   Time        V1        V2        V3        V4        V5        V6        V7  \\\n",
       "0   0.0 -1.359807 -0.072781  2.536347  1.378155 -0.338321  0.462388  0.239599   \n",
       "1   0.0  1.191857  0.266151  0.166480  0.448154  0.060018 -0.082361 -0.078803   \n",
       "2   1.0 -1.358354 -1.340163  1.773209  0.379780 -0.503198  1.800499  0.791461   \n",
       "3   1.0 -0.966272 -0.185226  1.792993 -0.863291 -0.010309  1.247203  0.237609   \n",
       "4   2.0 -1.158233  0.877737  1.548718  0.403034 -0.407193  0.095921  0.592941   \n",
       "\n",
       "         V8        V9  ...       V21       V22       V23       V24       V25  \\\n",
       "0  0.098698  0.363787  ... -0.018307  0.277838 -0.110474  0.066928  0.128539   \n",
       "1  0.085102 -0.255425  ... -0.225775 -0.638672  0.101288 -0.339846  0.167170   \n",
       "2  0.247676 -1.514654  ...  0.247998  0.771679  0.909412 -0.689281 -0.327642   \n",
       "3  0.377436 -1.387024  ... -0.108300  0.005274 -0.190321 -1.175575  0.647376   \n",
       "4 -0.270533  0.817739  ... -0.009431  0.798278 -0.137458  0.141267 -0.206010   \n",
       "\n",
       "        V26       V27       V28  Amount  Class  \n",
       "0 -0.189115  0.133558 -0.021053  149.62      0  \n",
       "1  0.125895 -0.008983  0.014724    2.69      0  \n",
       "2 -0.139097 -0.055353 -0.059752  378.66      0  \n",
       "3 -0.221929  0.062723  0.061458  123.50      0  \n",
       "4  0.502292  0.219422  0.215153   69.99      0  \n",
       "\n",
       "[5 rows x 31 columns]"
      ]
     },
     "execution_count": 4,
     "metadata": {},
     "output_type": "execute_result"
    }
   ],
   "source": [
    "# read the input data\n",
    "raw_data = pd.read_csv(\"/kaggle/input/creditcardfraud/creditcard.csv\")\n",
    "print(\"There are \" + str(len(raw_data)) + \" observations in the credit card fraud dataset.\")\n",
    "print(\"There are \" + str(len(raw_data.columns)) + \" variables in the dataset.\")\n",
    "\n",
    "# display the first rows in the dataset\n",
    "raw_data.head()"
   ]
  },
  {
   "cell_type": "markdown",
   "id": "e2d2fc4e",
   "metadata": {
    "papermill": {
     "duration": 0.02533,
     "end_time": "2023-07-09T10:05:56.214738",
     "exception": false,
     "start_time": "2023-07-09T10:05:56.189408",
     "status": "completed"
    },
    "tags": []
   },
   "source": [
    "In practice, a financial institution may have access to a much larger dataset of transactions. To simulate such a case, we will inflate the original one 10 times.\n"
   ]
  },
  {
   "cell_type": "code",
   "execution_count": 5,
   "id": "7e413b05",
   "metadata": {
    "execution": {
     "iopub.execute_input": "2023-07-09T10:05:56.268312Z",
     "iopub.status.busy": "2023-07-09T10:05:56.267551Z",
     "iopub.status.idle": "2023-07-09T10:05:56.537029Z",
     "shell.execute_reply": "2023-07-09T10:05:56.535945Z"
    },
    "papermill": {
     "duration": 0.298854,
     "end_time": "2023-07-09T10:05:56.539257",
     "exception": false,
     "start_time": "2023-07-09T10:05:56.240403",
     "status": "completed"
    },
    "tags": []
   },
   "outputs": [
    {
     "name": "stdout",
     "output_type": "stream",
     "text": [
      "There are 2848070 observations in the inflated credit card fraud dataset.\n",
      "There are 31 variables in the dataset.\n"
     ]
    },
    {
     "data": {
      "text/html": [
       "<div>\n",
       "<style scoped>\n",
       "    .dataframe tbody tr th:only-of-type {\n",
       "        vertical-align: middle;\n",
       "    }\n",
       "\n",
       "    .dataframe tbody tr th {\n",
       "        vertical-align: top;\n",
       "    }\n",
       "\n",
       "    .dataframe thead th {\n",
       "        text-align: right;\n",
       "    }\n",
       "</style>\n",
       "<table border=\"1\" class=\"dataframe\">\n",
       "  <thead>\n",
       "    <tr style=\"text-align: right;\">\n",
       "      <th></th>\n",
       "      <th>Time</th>\n",
       "      <th>V1</th>\n",
       "      <th>V2</th>\n",
       "      <th>V3</th>\n",
       "      <th>V4</th>\n",
       "      <th>V5</th>\n",
       "      <th>V6</th>\n",
       "      <th>V7</th>\n",
       "      <th>V8</th>\n",
       "      <th>V9</th>\n",
       "      <th>...</th>\n",
       "      <th>V21</th>\n",
       "      <th>V22</th>\n",
       "      <th>V23</th>\n",
       "      <th>V24</th>\n",
       "      <th>V25</th>\n",
       "      <th>V26</th>\n",
       "      <th>V27</th>\n",
       "      <th>V28</th>\n",
       "      <th>Amount</th>\n",
       "      <th>Class</th>\n",
       "    </tr>\n",
       "  </thead>\n",
       "  <tbody>\n",
       "    <tr>\n",
       "      <th>0</th>\n",
       "      <td>0.0</td>\n",
       "      <td>-1.359807</td>\n",
       "      <td>-0.072781</td>\n",
       "      <td>2.536347</td>\n",
       "      <td>1.378155</td>\n",
       "      <td>-0.338321</td>\n",
       "      <td>0.462388</td>\n",
       "      <td>0.239599</td>\n",
       "      <td>0.098698</td>\n",
       "      <td>0.363787</td>\n",
       "      <td>...</td>\n",
       "      <td>-0.018307</td>\n",
       "      <td>0.277838</td>\n",
       "      <td>-0.110474</td>\n",
       "      <td>0.066928</td>\n",
       "      <td>0.128539</td>\n",
       "      <td>-0.189115</td>\n",
       "      <td>0.133558</td>\n",
       "      <td>-0.021053</td>\n",
       "      <td>149.62</td>\n",
       "      <td>0.0</td>\n",
       "    </tr>\n",
       "    <tr>\n",
       "      <th>1</th>\n",
       "      <td>0.0</td>\n",
       "      <td>-1.359807</td>\n",
       "      <td>-0.072781</td>\n",
       "      <td>2.536347</td>\n",
       "      <td>1.378155</td>\n",
       "      <td>-0.338321</td>\n",
       "      <td>0.462388</td>\n",
       "      <td>0.239599</td>\n",
       "      <td>0.098698</td>\n",
       "      <td>0.363787</td>\n",
       "      <td>...</td>\n",
       "      <td>-0.018307</td>\n",
       "      <td>0.277838</td>\n",
       "      <td>-0.110474</td>\n",
       "      <td>0.066928</td>\n",
       "      <td>0.128539</td>\n",
       "      <td>-0.189115</td>\n",
       "      <td>0.133558</td>\n",
       "      <td>-0.021053</td>\n",
       "      <td>149.62</td>\n",
       "      <td>0.0</td>\n",
       "    </tr>\n",
       "    <tr>\n",
       "      <th>2</th>\n",
       "      <td>0.0</td>\n",
       "      <td>-1.359807</td>\n",
       "      <td>-0.072781</td>\n",
       "      <td>2.536347</td>\n",
       "      <td>1.378155</td>\n",
       "      <td>-0.338321</td>\n",
       "      <td>0.462388</td>\n",
       "      <td>0.239599</td>\n",
       "      <td>0.098698</td>\n",
       "      <td>0.363787</td>\n",
       "      <td>...</td>\n",
       "      <td>-0.018307</td>\n",
       "      <td>0.277838</td>\n",
       "      <td>-0.110474</td>\n",
       "      <td>0.066928</td>\n",
       "      <td>0.128539</td>\n",
       "      <td>-0.189115</td>\n",
       "      <td>0.133558</td>\n",
       "      <td>-0.021053</td>\n",
       "      <td>149.62</td>\n",
       "      <td>0.0</td>\n",
       "    </tr>\n",
       "    <tr>\n",
       "      <th>3</th>\n",
       "      <td>0.0</td>\n",
       "      <td>-1.359807</td>\n",
       "      <td>-0.072781</td>\n",
       "      <td>2.536347</td>\n",
       "      <td>1.378155</td>\n",
       "      <td>-0.338321</td>\n",
       "      <td>0.462388</td>\n",
       "      <td>0.239599</td>\n",
       "      <td>0.098698</td>\n",
       "      <td>0.363787</td>\n",
       "      <td>...</td>\n",
       "      <td>-0.018307</td>\n",
       "      <td>0.277838</td>\n",
       "      <td>-0.110474</td>\n",
       "      <td>0.066928</td>\n",
       "      <td>0.128539</td>\n",
       "      <td>-0.189115</td>\n",
       "      <td>0.133558</td>\n",
       "      <td>-0.021053</td>\n",
       "      <td>149.62</td>\n",
       "      <td>0.0</td>\n",
       "    </tr>\n",
       "    <tr>\n",
       "      <th>4</th>\n",
       "      <td>0.0</td>\n",
       "      <td>-1.359807</td>\n",
       "      <td>-0.072781</td>\n",
       "      <td>2.536347</td>\n",
       "      <td>1.378155</td>\n",
       "      <td>-0.338321</td>\n",
       "      <td>0.462388</td>\n",
       "      <td>0.239599</td>\n",
       "      <td>0.098698</td>\n",
       "      <td>0.363787</td>\n",
       "      <td>...</td>\n",
       "      <td>-0.018307</td>\n",
       "      <td>0.277838</td>\n",
       "      <td>-0.110474</td>\n",
       "      <td>0.066928</td>\n",
       "      <td>0.128539</td>\n",
       "      <td>-0.189115</td>\n",
       "      <td>0.133558</td>\n",
       "      <td>-0.021053</td>\n",
       "      <td>149.62</td>\n",
       "      <td>0.0</td>\n",
       "    </tr>\n",
       "  </tbody>\n",
       "</table>\n",
       "<p>5 rows × 31 columns</p>\n",
       "</div>"
      ],
      "text/plain": [
       "   Time        V1        V2        V3        V4        V5        V6        V7  \\\n",
       "0   0.0 -1.359807 -0.072781  2.536347  1.378155 -0.338321  0.462388  0.239599   \n",
       "1   0.0 -1.359807 -0.072781  2.536347  1.378155 -0.338321  0.462388  0.239599   \n",
       "2   0.0 -1.359807 -0.072781  2.536347  1.378155 -0.338321  0.462388  0.239599   \n",
       "3   0.0 -1.359807 -0.072781  2.536347  1.378155 -0.338321  0.462388  0.239599   \n",
       "4   0.0 -1.359807 -0.072781  2.536347  1.378155 -0.338321  0.462388  0.239599   \n",
       "\n",
       "         V8        V9  ...       V21       V22       V23       V24       V25  \\\n",
       "0  0.098698  0.363787  ... -0.018307  0.277838 -0.110474  0.066928  0.128539   \n",
       "1  0.098698  0.363787  ... -0.018307  0.277838 -0.110474  0.066928  0.128539   \n",
       "2  0.098698  0.363787  ... -0.018307  0.277838 -0.110474  0.066928  0.128539   \n",
       "3  0.098698  0.363787  ... -0.018307  0.277838 -0.110474  0.066928  0.128539   \n",
       "4  0.098698  0.363787  ... -0.018307  0.277838 -0.110474  0.066928  0.128539   \n",
       "\n",
       "        V26       V27       V28  Amount  Class  \n",
       "0 -0.189115  0.133558 -0.021053  149.62    0.0  \n",
       "1 -0.189115  0.133558 -0.021053  149.62    0.0  \n",
       "2 -0.189115  0.133558 -0.021053  149.62    0.0  \n",
       "3 -0.189115  0.133558 -0.021053  149.62    0.0  \n",
       "4 -0.189115  0.133558 -0.021053  149.62    0.0  \n",
       "\n",
       "[5 rows x 31 columns]"
      ]
     },
     "execution_count": 5,
     "metadata": {},
     "output_type": "execute_result"
    }
   ],
   "source": [
    "n_replicas = 10\n",
    "\n",
    "# inflate the original dataset\n",
    "big_raw_data = pd.DataFrame(np.repeat(raw_data.values, n_replicas, axis=0), columns=raw_data.columns)\n",
    "\n",
    "print(\"There are \" + str(len(big_raw_data)) + \" observations in the inflated credit card fraud dataset.\")\n",
    "print(\"There are \" + str(len(big_raw_data.columns)) + \" variables in the dataset.\")\n",
    "\n",
    "# display first rows in the new dataset\n",
    "big_raw_data.head()"
   ]
  },
  {
   "cell_type": "markdown",
   "id": "d4708e52",
   "metadata": {
    "papermill": {
     "duration": 0.025977,
     "end_time": "2023-07-09T10:05:56.591483",
     "exception": false,
     "start_time": "2023-07-09T10:05:56.565506",
     "status": "completed"
    },
    "tags": []
   },
   "source": [
    "Each row in the dataset represents a credit card transaction. As shown above, each row has 31 variables. One variable (the last variable in the table above) is called `Class` and represents the target variable. Your objective will be to train a model that uses the other variables to predict the value of the `Class` variable. Let's first retrieve basic statistics about the target variable.\n",
    "\n",
    "Note: For confidentiality reasons, the original names of most features are anonymize as V1, V2 .. V28. The values of these features are the result of a PCA transformation and are numerical. The feature `Class` is the target variable and it takes two values: 1 in case of fraud and 0 otherwise. For more information about the dataset please visit [kaggle](https://www.kaggle.com/mlg-ulb/creditcardfraud?utm_medium=Exinfluencer&utm_source=Exinfluencer&utm_content=000026UJ&utm_term=10006555&utm_id=NA-SkillsNetwork-Channel-SkillsNetworkGuidedProjectsIBMGPXX0RHPEN82-2022-01-01).\n"
   ]
  },
  {
   "cell_type": "code",
   "execution_count": 6,
   "id": "5b163708",
   "metadata": {
    "execution": {
     "iopub.execute_input": "2023-07-09T10:05:56.646720Z",
     "iopub.status.busy": "2023-07-09T10:05:56.646305Z",
     "iopub.status.idle": "2023-07-09T10:05:57.003632Z",
     "shell.execute_reply": "2023-07-09T10:05:57.001949Z"
    },
    "papermill": {
     "duration": 0.390998,
     "end_time": "2023-07-09T10:05:57.008987",
     "exception": false,
     "start_time": "2023-07-09T10:05:56.617989",
     "status": "completed"
    },
    "tags": []
   },
   "outputs": [
    {
     "data": {
      "image/png": "[encoded data removed]",
      "text/plain": [
       "<Figure size 640x480 with 1 Axes>"
      ]
     },
     "metadata": {},
     "output_type": "display_data"
    }
   ],
   "source": [
    "# get the set of distinct classes\n",
    "labels = big_raw_data.Class.unique()\n",
    "\n",
    "# get the count of each class\n",
    "sizes = big_raw_data.Class.value_counts().values\n",
    "\n",
    "# plot the class value counts\n",
    "fig, ax = plt.subplots()\n",
    "ax.pie(sizes, labels=labels, autopct='%1.3f%%')\n",
    "ax.set_title('Target Variable Value Counts')\n",
    "plt.show()"
   ]
  },
  {
   "cell_type": "markdown",
   "id": "ea20c384",
   "metadata": {
    "papermill": {
     "duration": 0.026381,
     "end_time": "2023-07-09T10:05:57.082042",
     "exception": false,
     "start_time": "2023-07-09T10:05:57.055661",
     "status": "completed"
    },
    "tags": []
   },
   "source": [
    "As shown above, the Class variable has two values:\n",
    "\n",
    "- 0 (the credit card transaction is legitimate)  \n",
    "- 1 (the credit card transaction is fraudulent)\n",
    "\n",
    "Thus, you need to model a binary classification problem. Moreover, **the dataset is highly unbalanced**, the target variable classes are not represented equally. This case requires special attention when training or when evaluating the quality of a model. One way of handing this case at training time is to _bias the model to pay more attention to the samples in the minority class_. The models under the current study will be configured to take into account the class weights of the samples at train/fit time.\n"
   ]
  },
  {
   "cell_type": "markdown",
   "id": "440fa514",
   "metadata": {
    "papermill": {
     "duration": 0.026084,
     "end_time": "2023-07-09T10:05:57.134805",
     "exception": false,
     "start_time": "2023-07-09T10:05:57.108721",
     "status": "completed"
    },
    "tags": []
   },
   "source": [
    "The credit card transactions have different amounts. Let's plot a histogram that shows the distribution of these amounts. The range of these amounts (min/max). Let's print the 90th percentile of the amount values.\n"
   ]
  },
  {
   "cell_type": "code",
   "execution_count": 7,
   "id": "dc06d66e",
   "metadata": {
    "execution": {
     "iopub.execute_input": "2023-07-09T10:05:57.190471Z",
     "iopub.status.busy": "2023-07-09T10:05:57.190008Z",
     "iopub.status.idle": "2023-07-09T10:05:57.643899Z",
     "shell.execute_reply": "2023-07-09T10:05:57.642376Z"
    },
    "papermill": {
     "duration": 0.485114,
     "end_time": "2023-07-09T10:05:57.646485",
     "exception": false,
     "start_time": "2023-07-09T10:05:57.161371",
     "status": "completed"
    },
    "tags": []
   },
   "outputs": [
    {
     "data": {
      "image/png": "[encoded data removed]",
      "text/plain": [
       "<Figure size 640x480 with 1 Axes>"
      ]
     },
     "metadata": {},
     "output_type": "display_data"
    },
    {
     "name": "stdout",
     "output_type": "stream",
     "text": [
      "Minimum amount value is  0.0\n",
      "Maximum amount value is  25691.16\n",
      "90% of the transactions have an amount less or equal than  203.0\n"
     ]
    }
   ],
   "source": [
    "plt.hist(big_raw_data.Amount.values, 6, histtype='bar', facecolor='g')\n",
    "plt.show()\n",
    "\n",
    "print(\"Minimum amount value is \", np.min(big_raw_data.Amount.values))\n",
    "print(\"Maximum amount value is \", np.max(big_raw_data.Amount.values))\n",
    "print(\"90% of the transactions have an amount less or equal than \", np.percentile(raw_data.Amount.values, 90))"
   ]
  },
  {
   "cell_type": "markdown",
   "id": "2d336e6f",
   "metadata": {
    "papermill": {
     "duration": 0.026621,
     "end_time": "2023-07-09T10:05:57.700020",
     "exception": false,
     "start_time": "2023-07-09T10:05:57.673399",
     "status": "completed"
    },
    "tags": []
   },
   "source": [
    "# Dataset Preprocessing\n"
   ]
  },
  {
   "cell_type": "markdown",
   "id": "193209ba",
   "metadata": {
    "papermill": {
     "duration": 0.027138,
     "end_time": "2023-07-09T10:05:57.754295",
     "exception": false,
     "start_time": "2023-07-09T10:05:57.727157",
     "status": "completed"
    },
    "tags": []
   },
   "source": [
    "Data preprocessing such as scaling/normalization is typically useful for linear models to accelerate the training convergence. We standardize features by removing the mean and scaling to unit variance.\n"
   ]
  },
  {
   "cell_type": "code",
   "execution_count": 8,
   "id": "4fb42706",
   "metadata": {
    "execution": {
     "iopub.execute_input": "2023-07-09T10:05:57.810181Z",
     "iopub.status.busy": "2023-07-09T10:05:57.809781Z",
     "iopub.status.idle": "2023-07-09T10:06:00.358045Z",
     "shell.execute_reply": "2023-07-09T10:06:00.356759Z"
    },
    "papermill": {
     "duration": 2.579385,
     "end_time": "2023-07-09T10:06:00.360593",
     "exception": false,
     "start_time": "2023-07-09T10:05:57.781208",
     "status": "completed"
    },
    "tags": []
   },
   "outputs": [
    {
     "name": "stdout",
     "output_type": "stream",
     "text": [
      "X.shape= (2848070, 29) y.shape= (2848070,)\n"
     ]
    }
   ],
   "source": [
    "big_raw_data.iloc[:, 1:30] = StandardScaler().fit_transform(big_raw_data.iloc[:, 1:30])\n",
    "data_matrix = big_raw_data.values\n",
    "\n",
    "# X: feature matrix (for this analysis, we exclude the Time variable from the dataset)\n",
    "X = data_matrix[:, 1:30]\n",
    "\n",
    "# y: labels vector\n",
    "y = data_matrix[:, 30]\n",
    "\n",
    "# data normalization\n",
    "X = normalize(X, norm=\"l1\")\n",
    "\n",
    "# print the shape of the features matrix and the labels vector\n",
    "print('X.shape=', X.shape, 'y.shape=', y.shape)"
   ]
  },
  {
   "cell_type": "markdown",
   "id": "846b05ce",
   "metadata": {
    "papermill": {
     "duration": 0.026571,
     "end_time": "2023-07-09T10:06:00.414212",
     "exception": false,
     "start_time": "2023-07-09T10:06:00.387641",
     "status": "completed"
    },
    "tags": []
   },
   "source": [
    "We are dealing with a large dataset, thus we need to make sure we do not run out of memory. We can release the memory occupied by `raw_data` and `big_raw_data` as we do not need them anymore.\n"
   ]
  },
  {
   "cell_type": "code",
   "execution_count": 9,
   "id": "692006d8",
   "metadata": {
    "execution": {
     "iopub.execute_input": "2023-07-09T10:06:00.469979Z",
     "iopub.status.busy": "2023-07-09T10:06:00.469573Z",
     "iopub.status.idle": "2023-07-09T10:06:00.618168Z",
     "shell.execute_reply": "2023-07-09T10:06:00.617174Z"
    },
    "papermill": {
     "duration": 0.179212,
     "end_time": "2023-07-09T10:06:00.620331",
     "exception": false,
     "start_time": "2023-07-09T10:06:00.441119",
     "status": "completed"
    },
    "tags": []
   },
   "outputs": [
    {
     "data": {
      "text/plain": [
       "3547"
      ]
     },
     "execution_count": 9,
     "metadata": {},
     "output_type": "execute_result"
    }
   ],
   "source": [
    "del raw_data\n",
    "del big_raw_data\n",
    "gc.collect()"
   ]
  },
  {
   "cell_type": "markdown",
   "id": "831a3d8e",
   "metadata": {
    "papermill": {
     "duration": 0.026837,
     "end_time": "2023-07-09T10:06:00.675193",
     "exception": false,
     "start_time": "2023-07-09T10:06:00.648356",
     "status": "completed"
    },
    "tags": []
   },
   "source": [
    "<div id=\"dataset_split\">\n",
    "    <h1>Dataset Train/Test Split</h1>\n",
    "</div>\n"
   ]
  },
  {
   "cell_type": "markdown",
   "id": "0613de55",
   "metadata": {
    "papermill": {
     "duration": 0.026665,
     "end_time": "2023-07-09T10:06:00.728637",
     "exception": false,
     "start_time": "2023-07-09T10:06:00.701972",
     "status": "completed"
    },
    "tags": []
   },
   "source": [
    "Now that the dataset is ready for building the classification models, you need to first divide the pre-processed dataset into a subset to be used for training the model (the train set) and a subset to be used for evaluating the quality of the model (the test set).\n"
   ]
  },
  {
   "cell_type": "code",
   "execution_count": 10,
   "id": "a8c673bb",
   "metadata": {
    "execution": {
     "iopub.execute_input": "2023-07-09T10:06:00.785451Z",
     "iopub.status.busy": "2023-07-09T10:06:00.785046Z",
     "iopub.status.idle": "2023-07-09T10:06:02.671922Z",
     "shell.execute_reply": "2023-07-09T10:06:02.670616Z"
    },
    "papermill": {
     "duration": 1.918148,
     "end_time": "2023-07-09T10:06:02.674418",
     "exception": false,
     "start_time": "2023-07-09T10:06:00.756270",
     "status": "completed"
    },
    "tags": []
   },
   "outputs": [
    {
     "name": "stdout",
     "output_type": "stream",
     "text": [
      "X_train.shape= (1993649, 29) Y_train.shape= (1993649,)\n",
      "X_test.shape= (854421, 29) Y_test.shape= (854421,)\n"
     ]
    }
   ],
   "source": [
    "X_train, X_test, y_train, y_test = train_test_split(X, y, test_size=0.3, random_state=42, stratify=y)       \n",
    "print('X_train.shape=', X_train.shape, 'Y_train.shape=', y_train.shape)\n",
    "print('X_test.shape=', X_test.shape, 'Y_test.shape=', y_test.shape)"
   ]
  },
  {
   "cell_type": "markdown",
   "id": "83e94681",
   "metadata": {
    "papermill": {
     "duration": 0.026823,
     "end_time": "2023-07-09T10:06:02.729046",
     "exception": false,
     "start_time": "2023-07-09T10:06:02.702223",
     "status": "completed"
    },
    "tags": []
   },
   "source": [
    "# Decision Trees\n"
   ]
  },
  {
   "cell_type": "markdown",
   "id": "907ec235",
   "metadata": {
    "papermill": {
     "duration": 0.026904,
     "end_time": "2023-07-09T10:06:02.783595",
     "exception": false,
     "start_time": "2023-07-09T10:06:02.756691",
     "status": "completed"
    },
    "tags": []
   },
   "source": [
    "Let's first use Decision Trees for the problem and evaluate the performance of the classifiers from Scikit-learn and Snap ML.\n"
   ]
  },
  {
   "cell_type": "markdown",
   "id": "9a3fabfb",
   "metadata": {
    "papermill": {
     "duration": 0.027634,
     "end_time": "2023-07-09T10:06:02.838691",
     "exception": false,
     "start_time": "2023-07-09T10:06:02.811057",
     "status": "completed"
    },
    "tags": []
   },
   "source": [
    "<div id=\"dt_sklearn\">\n",
    "    <h2>Build a Decision Tree Classifier with Scikit-Learn</h2>\n",
    "</div>\n"
   ]
  },
  {
   "cell_type": "markdown",
   "id": "8dd51340",
   "metadata": {
    "papermill": {
     "duration": 0.028723,
     "end_time": "2023-07-09T10:06:02.895393",
     "exception": false,
     "start_time": "2023-07-09T10:06:02.866670",
     "status": "completed"
    },
    "tags": []
   },
   "source": [
    "We compute the `sample_weights` to be used as input to the training routine so that it takes into account the class imbalance present in this dataset.\n"
   ]
  },
  {
   "cell_type": "code",
   "execution_count": 11,
   "id": "952d7182",
   "metadata": {
    "execution": {
     "iopub.execute_input": "2023-07-09T10:06:02.955082Z",
     "iopub.status.busy": "2023-07-09T10:06:02.954418Z",
     "iopub.status.idle": "2023-07-09T10:06:03.574228Z",
     "shell.execute_reply": "2023-07-09T10:06:03.573237Z"
    },
    "papermill": {
     "duration": 0.653318,
     "end_time": "2023-07-09T10:06:03.576801",
     "exception": false,
     "start_time": "2023-07-09T10:06:02.923483",
     "status": "completed"
    },
    "tags": []
   },
   "outputs": [],
   "source": [
    "w_train = compute_sample_weight('balanced', y_train)"
   ]
  },
  {
   "cell_type": "markdown",
   "id": "1271d867",
   "metadata": {
    "papermill": {
     "duration": 0.026975,
     "end_time": "2023-07-09T10:06:03.631321",
     "exception": false,
     "start_time": "2023-07-09T10:06:03.604346",
     "status": "completed"
    },
    "tags": []
   },
   "source": [
    "Import the Decision Tree Classifier Model from scikit-learn:\n"
   ]
  },
  {
   "cell_type": "code",
   "execution_count": 12,
   "id": "6f517edd",
   "metadata": {
    "execution": {
     "iopub.execute_input": "2023-07-09T10:06:03.687760Z",
     "iopub.status.busy": "2023-07-09T10:06:03.687165Z",
     "iopub.status.idle": "2023-07-09T10:06:03.934472Z",
     "shell.execute_reply": "2023-07-09T10:06:03.933245Z"
    },
    "papermill": {
     "duration": 0.278811,
     "end_time": "2023-07-09T10:06:03.937376",
     "exception": false,
     "start_time": "2023-07-09T10:06:03.658565",
     "status": "completed"
    },
    "tags": []
   },
   "outputs": [],
   "source": [
    "from sklearn.tree import DecisionTreeClassifier"
   ]
  },
  {
   "cell_type": "markdown",
   "id": "64188636",
   "metadata": {
    "papermill": {
     "duration": 0.027352,
     "end_time": "2023-07-09T10:06:03.993619",
     "exception": false,
     "start_time": "2023-07-09T10:06:03.966267",
     "status": "completed"
    },
    "tags": []
   },
   "source": [
    "For reproducible output across multiple function calls, set `random_state` to a given integer value:\n"
   ]
  },
  {
   "cell_type": "code",
   "execution_count": 13,
   "id": "1a4b6c9d",
   "metadata": {
    "execution": {
     "iopub.execute_input": "2023-07-09T10:06:04.051944Z",
     "iopub.status.busy": "2023-07-09T10:06:04.051498Z",
     "iopub.status.idle": "2023-07-09T10:06:04.057051Z",
     "shell.execute_reply": "2023-07-09T10:06:04.055670Z"
    },
    "papermill": {
     "duration": 0.037339,
     "end_time": "2023-07-09T10:06:04.059530",
     "exception": false,
     "start_time": "2023-07-09T10:06:04.022191",
     "status": "completed"
    },
    "tags": []
   },
   "outputs": [],
   "source": [
    "sklearn_dt = DecisionTreeClassifier(max_depth=4, random_state=35)"
   ]
  },
  {
   "cell_type": "markdown",
   "id": "8d8412e8",
   "metadata": {
    "papermill": {
     "duration": 0.02722,
     "end_time": "2023-07-09T10:06:04.114427",
     "exception": false,
     "start_time": "2023-07-09T10:06:04.087207",
     "status": "completed"
    },
    "tags": []
   },
   "source": [
    "Train a Decision Tree Classifier using scikit-learn and use the function **time** to record the training time of our Decision Tree model.\n"
   ]
  },
  {
   "cell_type": "code",
   "execution_count": 14,
   "id": "3a093566",
   "metadata": {
    "execution": {
     "iopub.execute_input": "2023-07-09T10:06:04.171968Z",
     "iopub.status.busy": "2023-07-09T10:06:04.171151Z",
     "iopub.status.idle": "2023-07-09T10:06:55.015811Z",
     "shell.execute_reply": "2023-07-09T10:06:55.014312Z"
    },
    "papermill": {
     "duration": 50.903044,
     "end_time": "2023-07-09T10:06:55.045633",
     "exception": false,
     "start_time": "2023-07-09T10:06:04.142589",
     "status": "completed"
    },
    "tags": []
   },
   "outputs": [
    {
     "name": "stdout",
     "output_type": "stream",
     "text": [
      "[Scikit-Learn] Training time (s):  50.83568\n"
     ]
    }
   ],
   "source": [
    "t0 = time.time()\n",
    "sklearn_dt.fit(X_train, y_train, sample_weight=w_train)\n",
    "sklearn_time = time.time()-t0\n",
    "print(\"[Scikit-Learn] Training time (s):  {0:.5f}\".format(sklearn_time))"
   ]
  },
  {
   "cell_type": "code",
   "execution_count": 15,
   "id": "6a407ce1",
   "metadata": {
    "execution": {
     "iopub.execute_input": "2023-07-09T10:06:55.111219Z",
     "iopub.status.busy": "2023-07-09T10:06:55.110517Z",
     "iopub.status.idle": "2023-07-09T10:06:55.213732Z",
     "shell.execute_reply": "2023-07-09T10:06:55.212352Z"
    },
    "papermill": {
     "duration": 0.141229,
     "end_time": "2023-07-09T10:06:55.218697",
     "exception": false,
     "start_time": "2023-07-09T10:06:55.077468",
     "status": "completed"
    },
    "tags": []
   },
   "outputs": [],
   "source": [
    "prediction=sklearn_dt.predict(X_test)"
   ]
  },
  {
   "cell_type": "code",
   "execution_count": 16,
   "id": "0e9bed34",
   "metadata": {
    "execution": {
     "iopub.execute_input": "2023-07-09T10:06:55.284038Z",
     "iopub.status.busy": "2023-07-09T10:06:55.283039Z",
     "iopub.status.idle": "2023-07-09T10:06:56.507426Z",
     "shell.execute_reply": "2023-07-09T10:06:56.505939Z"
    },
    "papermill": {
     "duration": 1.261176,
     "end_time": "2023-07-09T10:06:56.510723",
     "exception": false,
     "start_time": "2023-07-09T10:06:55.249547",
     "status": "completed"
    },
    "tags": []
   },
   "outputs": [
    {
     "name": "stdout",
     "output_type": "stream",
     "text": [
      "Accuracy: 0.9657428831922437\n",
      "Confusion Matrix:\n",
      "[[823807  29138]\n",
      " [   132   1344]]\n"
     ]
    }
   ],
   "source": [
    "from sklearn.metrics import accuracy_score, confusion_matrix\n",
    "\n",
    "accuracy = accuracy_score(y_test, prediction)\n",
    "print(\"Accuracy:\", accuracy)\n",
    "\n",
    "confusion_matrix = confusion_matrix(y_test, prediction)\n",
    "print(\"Confusion Matrix:\")\n",
    "print(confusion_matrix)"
   ]
  },
  {
   "cell_type": "markdown",
   "id": "9e4e38e8",
   "metadata": {
    "papermill": {
     "duration": 0.035228,
     "end_time": "2023-07-09T10:06:56.576682",
     "exception": false,
     "start_time": "2023-07-09T10:06:56.541454",
     "status": "completed"
    },
    "tags": []
   },
   "source": [
    "<div id=\"dt_snapml\">\n",
    "    <h2>Build a Decision Tree Classifier with Snap ML</h2>\n",
    "</div>\n"
   ]
  },
  {
   "cell_type": "markdown",
   "id": "70b08638",
   "metadata": {
    "papermill": {
     "duration": 0.031424,
     "end_time": "2023-07-09T10:06:56.641257",
     "exception": false,
     "start_time": "2023-07-09T10:06:56.609833",
     "status": "completed"
    },
    "tags": []
   },
   "source": [
    "Let's import the Decision Tree Classifier Model from **Snap ML**. We can reuse the same sample weights we computed before using the Scikit-learn's `compute_sample_weight` function for training the Decision Tree from Snap ML. The seamless integration of the Snap ML library is possible due to its Scikit-learn Python API compatibility.\n"
   ]
  },
  {
   "cell_type": "markdown",
   "id": "b7ff690e",
   "metadata": {
    "papermill": {
     "duration": 0.032891,
     "end_time": "2023-07-09T10:06:56.704533",
     "exception": false,
     "start_time": "2023-07-09T10:06:56.671642",
     "status": "completed"
    },
    "tags": []
   },
   "source": [
    "Import the Decision Tree Classifier Model from Snap ML:\n"
   ]
  },
  {
   "cell_type": "code",
   "execution_count": 17,
   "id": "c59f1b6b",
   "metadata": {
    "execution": {
     "iopub.execute_input": "2023-07-09T10:06:56.782682Z",
     "iopub.status.busy": "2023-07-09T10:06:56.781312Z",
     "iopub.status.idle": "2023-07-09T10:06:58.595631Z",
     "shell.execute_reply": "2023-07-09T10:06:58.593452Z"
    },
    "papermill": {
     "duration": 1.852871,
     "end_time": "2023-07-09T10:06:58.599041",
     "exception": false,
     "start_time": "2023-07-09T10:06:56.746170",
     "status": "completed"
    },
    "tags": []
   },
   "outputs": [],
   "source": [
    "from snapml import DecisionTreeClassifier"
   ]
  },
  {
   "cell_type": "markdown",
   "id": "89a29a97",
   "metadata": {
    "papermill": {
     "duration": 0.027236,
     "end_time": "2023-07-09T10:06:58.654754",
     "exception": false,
     "start_time": "2023-07-09T10:06:58.627518",
     "status": "completed"
    },
    "tags": []
   },
   "source": [
    "Snap ML offers multi-threaded CPU/GPU training of decision trees, unlike scikit-learn. To use the GPU, set the parameter `use_gpu = True`:\n",
    "\n",
    "`snapml_dt = DecisionTreeClassifier(max_depth=4, random_state=45, use_gpu=True)`\n"
   ]
  },
  {
   "cell_type": "markdown",
   "id": "8007734b",
   "metadata": {
    "papermill": {
     "duration": 0.02883,
     "end_time": "2023-07-09T10:06:58.711674",
     "exception": false,
     "start_time": "2023-07-09T10:06:58.682844",
     "status": "completed"
    },
    "tags": []
   },
   "source": [
    "To set the number of CPU threads used at training time, set the `n_jobs` parameter. For reproducible output across multiple function calls, set `random_state` to a given integer value.\n"
   ]
  },
  {
   "cell_type": "code",
   "execution_count": 18,
   "id": "7412ffc4",
   "metadata": {
    "execution": {
     "iopub.execute_input": "2023-07-09T10:06:58.774908Z",
     "iopub.status.busy": "2023-07-09T10:06:58.774437Z",
     "iopub.status.idle": "2023-07-09T10:06:58.780002Z",
     "shell.execute_reply": "2023-07-09T10:06:58.778563Z"
    },
    "papermill": {
     "duration": 0.040266,
     "end_time": "2023-07-09T10:06:58.783072",
     "exception": false,
     "start_time": "2023-07-09T10:06:58.742806",
     "status": "completed"
    },
    "tags": []
   },
   "outputs": [],
   "source": [
    "snapml_dt = DecisionTreeClassifier(max_depth=4, random_state=45, n_jobs=4)"
   ]
  },
  {
   "cell_type": "markdown",
   "id": "bf3aeeb0",
   "metadata": {
    "papermill": {
     "duration": 0.029714,
     "end_time": "2023-07-09T10:06:58.844273",
     "exception": false,
     "start_time": "2023-07-09T10:06:58.814559",
     "status": "completed"
    },
    "tags": []
   },
   "source": [
    "Train a Decision Tree Classifier from Snap ML and use the function **time** to record the training time.\n"
   ]
  },
  {
   "cell_type": "code",
   "execution_count": 19,
   "id": "994b6b82",
   "metadata": {
    "execution": {
     "iopub.execute_input": "2023-07-09T10:06:58.906328Z",
     "iopub.status.busy": "2023-07-09T10:06:58.905838Z",
     "iopub.status.idle": "2023-07-09T10:07:02.669506Z",
     "shell.execute_reply": "2023-07-09T10:07:02.667851Z"
    },
    "papermill": {
     "duration": 3.797561,
     "end_time": "2023-07-09T10:07:02.672400",
     "exception": false,
     "start_time": "2023-07-09T10:06:58.874839",
     "status": "completed"
    },
    "tags": []
   },
   "outputs": [
    {
     "name": "stdout",
     "output_type": "stream",
     "text": [
      "[Snap ML] Training time (s):  3.75700\n"
     ]
    }
   ],
   "source": [
    "# train a Decision Tree Classifier model using Snap ML\n",
    "t0 = time.time()\n",
    "snapml_dt.fit(X_train, y_train, sample_weight=w_train)\n",
    "snapml_time = time.time()-t0\n",
    "print(\"[Snap ML] Training time (s):  {0:.5f}\".format(snapml_time))"
   ]
  },
  {
   "cell_type": "code",
   "execution_count": 20,
   "id": "d28729b4",
   "metadata": {
    "execution": {
     "iopub.execute_input": "2023-07-09T10:07:02.734435Z",
     "iopub.status.busy": "2023-07-09T10:07:02.733620Z",
     "iopub.status.idle": "2023-07-09T10:07:02.808673Z",
     "shell.execute_reply": "2023-07-09T10:07:02.807364Z"
    },
    "papermill": {
     "duration": 0.111099,
     "end_time": "2023-07-09T10:07:02.812531",
     "exception": false,
     "start_time": "2023-07-09T10:07:02.701432",
     "status": "completed"
    },
    "tags": []
   },
   "outputs": [],
   "source": [
    "prediction=snapml_dt.predict(X_test)"
   ]
  },
  {
   "cell_type": "code",
   "execution_count": 21,
   "id": "12128974",
   "metadata": {
    "execution": {
     "iopub.execute_input": "2023-07-09T10:07:02.871988Z",
     "iopub.status.busy": "2023-07-09T10:07:02.871508Z",
     "iopub.status.idle": "2023-07-09T10:07:04.100273Z",
     "shell.execute_reply": "2023-07-09T10:07:04.098968Z"
    },
    "papermill": {
     "duration": 1.26296,
     "end_time": "2023-07-09T10:07:04.103343",
     "exception": false,
     "start_time": "2023-07-09T10:07:02.840383",
     "status": "completed"
    },
    "tags": []
   },
   "outputs": [
    {
     "name": "stdout",
     "output_type": "stream",
     "text": [
      "Accuracy: 0.9651296023857091\n",
      "Confusion Matrix:\n",
      "[[823283  29662]\n",
      " [   132   1344]]\n"
     ]
    }
   ],
   "source": [
    "from sklearn.metrics import accuracy_score, confusion_matrix\n",
    "\n",
    "accuracy = accuracy_score(y_test, prediction)\n",
    "print(\"Accuracy:\", accuracy)\n",
    "\n",
    "confusion_matrix = confusion_matrix(y_test, prediction)\n",
    "print(\"Confusion Matrix:\")\n",
    "print(confusion_matrix)"
   ]
  },
  {
   "cell_type": "markdown",
   "id": "3f90e614",
   "metadata": {
    "papermill": {
     "duration": 0.03186,
     "end_time": "2023-07-09T10:07:04.166383",
     "exception": false,
     "start_time": "2023-07-09T10:07:04.134523",
     "status": "completed"
    },
    "tags": []
   },
   "source": [
    "<div id=\"dt_sklearn_snapml\">\n",
    "    <h1>Evaluate the Scikit-Learn and Snap ML Decision Tree Classifiers</h1>\n",
    "</div>\n"
   ]
  },
  {
   "cell_type": "markdown",
   "id": "104af62a",
   "metadata": {
    "papermill": {
     "duration": 0.029529,
     "end_time": "2023-07-09T10:07:04.229502",
     "exception": false,
     "start_time": "2023-07-09T10:07:04.199973",
     "status": "completed"
    },
    "tags": []
   },
   "source": [
    "Let's examine the Snap ML vs Scikit-Learn training speedup for the Decision Tree Classifier:\n"
   ]
  },
  {
   "cell_type": "code",
   "execution_count": 22,
   "id": "461071e8",
   "metadata": {
    "execution": {
     "iopub.execute_input": "2023-07-09T10:07:04.294273Z",
     "iopub.status.busy": "2023-07-09T10:07:04.293758Z",
     "iopub.status.idle": "2023-07-09T10:07:04.302413Z",
     "shell.execute_reply": "2023-07-09T10:07:04.301287Z"
    },
    "papermill": {
     "duration": 0.045438,
     "end_time": "2023-07-09T10:07:04.306153",
     "exception": false,
     "start_time": "2023-07-09T10:07:04.260715",
     "status": "completed"
    },
    "tags": []
   },
   "outputs": [
    {
     "name": "stdout",
     "output_type": "stream",
     "text": [
      "[Decision Tree Classifier] Snap ML vs. Scikit-Learn speedup : 13.53x \n"
     ]
    }
   ],
   "source": [
    "# Snap ML vs Scikit-Learn training speedup\n",
    "training_speedup = sklearn_time/snapml_time\n",
    "print('[Decision Tree Classifier] Snap ML vs. Scikit-Learn speedup : {0:.2f}x '.format(training_speedup))"
   ]
  },
  {
   "cell_type": "markdown",
   "id": "9bb98862",
   "metadata": {
    "papermill": {
     "duration": 0.029859,
     "end_time": "2023-07-09T10:07:04.368803",
     "exception": false,
     "start_time": "2023-07-09T10:07:04.338944",
     "status": "completed"
    },
    "tags": []
   },
   "source": [
    "Let's run inference on both classifiers and compute the probabilities of the test samples belonging to the class of fraudulent transactions. \n"
   ]
  },
  {
   "cell_type": "code",
   "execution_count": 23,
   "id": "cf816d6e",
   "metadata": {
    "execution": {
     "iopub.execute_input": "2023-07-09T10:07:04.434043Z",
     "iopub.status.busy": "2023-07-09T10:07:04.433241Z",
     "iopub.status.idle": "2023-07-09T10:07:04.639753Z",
     "shell.execute_reply": "2023-07-09T10:07:04.637924Z"
    },
    "papermill": {
     "duration": 0.244343,
     "end_time": "2023-07-09T10:07:04.644014",
     "exception": false,
     "start_time": "2023-07-09T10:07:04.399671",
     "status": "completed"
    },
    "tags": []
   },
   "outputs": [],
   "source": [
    "sklearn_pred = sklearn_dt.predict_proba(X_test)[:,1]\n",
    "snapml_pred = snapml_dt.predict_proba(X_test)[:,1]"
   ]
  },
  {
   "cell_type": "markdown",
   "id": "436f477e",
   "metadata": {
    "papermill": {
     "duration": 0.02881,
     "end_time": "2023-07-09T10:07:04.702376",
     "exception": false,
     "start_time": "2023-07-09T10:07:04.673566",
     "status": "completed"
    },
    "tags": []
   },
   "source": [
    "We evaluate the Compute Area Under the Receiver Operating Characteristic Curve, the **ROC-AUC score** of the predictions of both classifiers:\n"
   ]
  },
  {
   "cell_type": "code",
   "execution_count": 24,
   "id": "1de0a257",
   "metadata": {
    "execution": {
     "iopub.execute_input": "2023-07-09T10:07:04.763195Z",
     "iopub.status.busy": "2023-07-09T10:07:04.762742Z",
     "iopub.status.idle": "2023-07-09T10:07:05.317556Z",
     "shell.execute_reply": "2023-07-09T10:07:05.316632Z"
    },
    "papermill": {
     "duration": 0.588584,
     "end_time": "2023-07-09T10:07:05.320068",
     "exception": false,
     "start_time": "2023-07-09T10:07:04.731484",
     "status": "completed"
    },
    "tags": []
   },
   "outputs": [
    {
     "name": "stdout",
     "output_type": "stream",
     "text": [
      "[Scikit-Learn] ROC-AUC score : 0.966\n",
      "[Snap ML] ROC-AUC score : 0.966\n"
     ]
    }
   ],
   "source": [
    "sklearn_roc_auc = roc_auc_score(y_test, sklearn_pred)\n",
    "print('[Scikit-Learn] ROC-AUC score : {0:.3f}'.format(sklearn_roc_auc))\n",
    "\n",
    "snapml_roc_auc = roc_auc_score(y_test, snapml_pred)   \n",
    "print('[Snap ML] ROC-AUC score : {0:.3f}'.format(snapml_roc_auc))"
   ]
  },
  {
   "cell_type": "markdown",
   "id": "8adebeb5",
   "metadata": {
    "papermill": {
     "duration": 0.033719,
     "end_time": "2023-07-09T10:07:05.384682",
     "exception": false,
     "start_time": "2023-07-09T10:07:05.350963",
     "status": "completed"
    },
    "tags": []
   },
   "source": [
    "As shown above, both Decision Tree classifiers provide the same score on the test dataset. \n",
    "\n",
    "However Snap ML runs the training routine multiple times faster than Scikit-Learn. This is one of the advantages of using Snap ML: **acceleration of training of classical machine learning models, such as linear and tree-based models**. For more Snap ML examples, please visit [here](https://ibm.biz/BdPfxB?utm_medium=Exinfluencer&utm_source=Exinfluencer&utm_content=000026UJ&utm_term=10006555&utm_id=NA-SkillsNetwork-Channel-SkillsNetworkGuidedProjectsIBMGPXX0RHPEN82-2022-01-01).\n"
   ]
  },
  {
   "cell_type": "markdown",
   "id": "e8085b0a",
   "metadata": {
    "papermill": {
     "duration": 0.032014,
     "end_time": "2023-07-09T10:07:05.452304",
     "exception": false,
     "start_time": "2023-07-09T10:07:05.420290",
     "status": "completed"
    },
    "tags": []
   },
   "source": [
    "# Support Vector Machines\n"
   ]
  },
  {
   "cell_type": "markdown",
   "id": "208841ac",
   "metadata": {
    "papermill": {
     "duration": 0.03394,
     "end_time": "2023-07-09T10:07:05.521130",
     "exception": false,
     "start_time": "2023-07-09T10:07:05.487190",
     "status": "completed"
    },
    "tags": []
   },
   "source": [
    "We now use the Support Vector Machine (SVM) models for the problem and evaluate the performance of the models from Scikit-learn and Snap ML.\n"
   ]
  },
  {
   "cell_type": "markdown",
   "id": "ef622c7b",
   "metadata": {
    "papermill": {
     "duration": 0.031759,
     "end_time": "2023-07-09T10:07:05.584548",
     "exception": false,
     "start_time": "2023-07-09T10:07:05.552789",
     "status": "completed"
    },
    "tags": []
   },
   "source": [
    "<div id=\"svm_sklearn\">\n",
    "    <h2>Build a Support Vector Machine model with Scikit-Learn</h2>\n",
    "</div>\n"
   ]
  },
  {
   "cell_type": "markdown",
   "id": "b820776f",
   "metadata": {
    "papermill": {
     "duration": 0.030809,
     "end_time": "2023-07-09T10:07:05.647502",
     "exception": false,
     "start_time": "2023-07-09T10:07:05.616693",
     "status": "completed"
    },
    "tags": []
   },
   "source": [
    "Import the linear Support Vector Machine (SVM) model from Scikit-Learn:\n"
   ]
  },
  {
   "cell_type": "code",
   "execution_count": 25,
   "id": "11b9a822",
   "metadata": {
    "execution": {
     "iopub.execute_input": "2023-07-09T10:07:05.712746Z",
     "iopub.status.busy": "2023-07-09T10:07:05.712126Z",
     "iopub.status.idle": "2023-07-09T10:07:05.716396Z",
     "shell.execute_reply": "2023-07-09T10:07:05.715504Z"
    },
    "papermill": {
     "duration": 0.03929,
     "end_time": "2023-07-09T10:07:05.719546",
     "exception": false,
     "start_time": "2023-07-09T10:07:05.680256",
     "status": "completed"
    },
    "tags": []
   },
   "outputs": [],
   "source": [
    "from sklearn.svm import LinearSVC"
   ]
  },
  {
   "cell_type": "markdown",
   "id": "762486d5",
   "metadata": {
    "papermill": {
     "duration": 0.029481,
     "end_time": "2023-07-09T10:07:05.780634",
     "exception": false,
     "start_time": "2023-07-09T10:07:05.751153",
     "status": "completed"
    },
    "tags": []
   },
   "source": [
    "Instatiate a scikit-learn SVM model. To indicate the class imbalance at training time, set `class_weight='balanced'`.\n"
   ]
  },
  {
   "cell_type": "code",
   "execution_count": 26,
   "id": "53ce1404",
   "metadata": {
    "execution": {
     "iopub.execute_input": "2023-07-09T10:07:05.844280Z",
     "iopub.status.busy": "2023-07-09T10:07:05.843642Z",
     "iopub.status.idle": "2023-07-09T10:07:05.848583Z",
     "shell.execute_reply": "2023-07-09T10:07:05.847377Z"
    },
    "papermill": {
     "duration": 0.043095,
     "end_time": "2023-07-09T10:07:05.851943",
     "exception": false,
     "start_time": "2023-07-09T10:07:05.808848",
     "status": "completed"
    },
    "tags": []
   },
   "outputs": [],
   "source": [
    "sklearn_svm = LinearSVC(class_weight='balanced', random_state=31, loss=\"hinge\", fit_intercept=False)"
   ]
  },
  {
   "cell_type": "markdown",
   "id": "ac3f2b5a",
   "metadata": {
    "papermill": {
     "duration": 0.033652,
     "end_time": "2023-07-09T10:07:05.920551",
     "exception": false,
     "start_time": "2023-07-09T10:07:05.886899",
     "status": "completed"
    },
    "tags": []
   },
   "source": [
    "Train a linear Support Vector Machine model using Scikit-Learn:\n"
   ]
  },
  {
   "cell_type": "code",
   "execution_count": 27,
   "id": "6d9da2e2",
   "metadata": {
    "execution": {
     "iopub.execute_input": "2023-07-09T10:07:05.991496Z",
     "iopub.status.busy": "2023-07-09T10:07:05.990831Z",
     "iopub.status.idle": "2023-07-09T10:08:27.345421Z",
     "shell.execute_reply": "2023-07-09T10:08:27.344162Z"
    },
    "papermill": {
     "duration": 81.422546,
     "end_time": "2023-07-09T10:08:27.377190",
     "exception": false,
     "start_time": "2023-07-09T10:07:05.954644",
     "status": "completed"
    },
    "tags": []
   },
   "outputs": [
    {
     "name": "stdout",
     "output_type": "stream",
     "text": [
      "[Scikit-Learn] Training time (s):  81.35\n"
     ]
    }
   ],
   "source": [
    "t0 = time.time()\n",
    "sklearn_svm.fit(X_train, y_train)\n",
    "sklearn_time = time.time() - t0\n",
    "print(\"[Scikit-Learn] Training time (s):  {0:.2f}\".format(sklearn_time))"
   ]
  },
  {
   "cell_type": "code",
   "execution_count": 28,
   "id": "c5806b4d",
   "metadata": {
    "execution": {
     "iopub.execute_input": "2023-07-09T10:08:27.442147Z",
     "iopub.status.busy": "2023-07-09T10:08:27.441477Z",
     "iopub.status.idle": "2023-07-09T10:08:27.505712Z",
     "shell.execute_reply": "2023-07-09T10:08:27.504110Z"
    },
    "papermill": {
     "duration": 0.103476,
     "end_time": "2023-07-09T10:08:27.511440",
     "exception": false,
     "start_time": "2023-07-09T10:08:27.407964",
     "status": "completed"
    },
    "tags": []
   },
   "outputs": [],
   "source": [
    "prediction=sklearn_svm.predict(X_test)"
   ]
  },
  {
   "cell_type": "code",
   "execution_count": 29,
   "id": "2d2a5461",
   "metadata": {
    "execution": {
     "iopub.execute_input": "2023-07-09T10:08:27.623845Z",
     "iopub.status.busy": "2023-07-09T10:08:27.623406Z",
     "iopub.status.idle": "2023-07-09T10:08:28.830826Z",
     "shell.execute_reply": "2023-07-09T10:08:28.829291Z"
    },
    "papermill": {
     "duration": 1.254842,
     "end_time": "2023-07-09T10:08:28.833648",
     "exception": false,
     "start_time": "2023-07-09T10:08:27.578806",
     "status": "completed"
    },
    "tags": []
   },
   "outputs": [
    {
     "name": "stdout",
     "output_type": "stream",
     "text": [
      "Accuracy: 0.9445296873555308\n",
      "Confusion Matrix:\n",
      "[[805646  47299]\n",
      " [    96   1380]]\n"
     ]
    }
   ],
   "source": [
    "from sklearn.metrics import accuracy_score, confusion_matrix\n",
    "\n",
    "accuracy = accuracy_score(y_test, prediction)\n",
    "print(\"Accuracy:\", accuracy)\n",
    "\n",
    "confusion_matrix = confusion_matrix(y_test, prediction)\n",
    "print(\"Confusion Matrix:\")\n",
    "print(confusion_matrix)"
   ]
  },
  {
   "cell_type": "markdown",
   "id": "cd08f203",
   "metadata": {
    "papermill": {
     "duration": 0.028172,
     "end_time": "2023-07-09T10:08:28.892815",
     "exception": false,
     "start_time": "2023-07-09T10:08:28.864643",
     "status": "completed"
    },
    "tags": []
   },
   "source": [
    "<div id=\"svm_snap\">\n",
    "    <h2>Build a Support Vector Machine model with Snap ML</h2>\n",
    "</div>\n"
   ]
  },
  {
   "cell_type": "markdown",
   "id": "b51a6682",
   "metadata": {
    "papermill": {
     "duration": 0.028117,
     "end_time": "2023-07-09T10:08:28.949786",
     "exception": false,
     "start_time": "2023-07-09T10:08:28.921669",
     "status": "completed"
    },
    "tags": []
   },
   "source": [
    "Import the Support Vector Machine model (SVM) from Snap ML:\n"
   ]
  },
  {
   "cell_type": "code",
   "execution_count": 30,
   "id": "cd048b66",
   "metadata": {
    "execution": {
     "iopub.execute_input": "2023-07-09T10:08:29.015995Z",
     "iopub.status.busy": "2023-07-09T10:08:29.015387Z",
     "iopub.status.idle": "2023-07-09T10:08:29.021450Z",
     "shell.execute_reply": "2023-07-09T10:08:29.020218Z"
    },
    "papermill": {
     "duration": 0.042987,
     "end_time": "2023-07-09T10:08:29.024115",
     "exception": false,
     "start_time": "2023-07-09T10:08:28.981128",
     "status": "completed"
    },
    "tags": []
   },
   "outputs": [],
   "source": [
    "from snapml import SupportVectorMachine"
   ]
  },
  {
   "cell_type": "markdown",
   "id": "f45a49d6",
   "metadata": {
    "papermill": {
     "duration": 0.029107,
     "end_time": "2023-07-09T10:08:29.083891",
     "exception": false,
     "start_time": "2023-07-09T10:08:29.054784",
     "status": "completed"
    },
    "tags": []
   },
   "source": [
    "In contrast to scikit-learn's LinearSVC, Snap ML offers multi-threaded CPU/GPU training of SVMs. To use the GPU, set `use_gpu = True`. To set the number of threads used at training time, one needs to set the `n_jobs` parameter.\n"
   ]
  },
  {
   "cell_type": "code",
   "execution_count": 31,
   "id": "24a9958e",
   "metadata": {
    "execution": {
     "iopub.execute_input": "2023-07-09T10:08:29.142704Z",
     "iopub.status.busy": "2023-07-09T10:08:29.142280Z",
     "iopub.status.idle": "2023-07-09T10:08:29.148856Z",
     "shell.execute_reply": "2023-07-09T10:08:29.147650Z"
    },
    "papermill": {
     "duration": 0.039461,
     "end_time": "2023-07-09T10:08:29.151793",
     "exception": false,
     "start_time": "2023-07-09T10:08:29.112332",
     "status": "completed"
    },
    "tags": []
   },
   "outputs": [
    {
     "name": "stdout",
     "output_type": "stream",
     "text": [
      "{'class_weight': 'balanced', 'device_ids': [], 'fit_intercept': False, 'gamma': 1.0, 'generate_training_history': None, 'intercept_scaling': 1.0, 'kernel': 'linear', 'loss': 'hinge', 'max_iter': 1000, 'n_components': 100, 'n_jobs': 4, 'normalize': False, 'random_state': 25, 'regularizer': 1.0, 'tol': 0.001, 'use_gpu': False, 'verbose': False}\n"
     ]
    }
   ],
   "source": [
    "snapml_svm = SupportVectorMachine(class_weight='balanced', random_state=25, n_jobs=4, fit_intercept=False)\n",
    "print(snapml_svm.get_params())"
   ]
  },
  {
   "cell_type": "markdown",
   "id": "ccf13f33",
   "metadata": {
    "papermill": {
     "duration": 0.030354,
     "end_time": "2023-07-09T10:08:29.212592",
     "exception": false,
     "start_time": "2023-07-09T10:08:29.182238",
     "status": "completed"
    },
    "tags": []
   },
   "source": [
    "Train an SVM model using Snap ML:\n"
   ]
  },
  {
   "cell_type": "code",
   "execution_count": 32,
   "id": "9efdeb48",
   "metadata": {
    "execution": {
     "iopub.execute_input": "2023-07-09T10:08:29.273440Z",
     "iopub.status.busy": "2023-07-09T10:08:29.273015Z",
     "iopub.status.idle": "2023-07-09T10:08:53.274596Z",
     "shell.execute_reply": "2023-07-09T10:08:53.273165Z"
    },
    "papermill": {
     "duration": 24.035346,
     "end_time": "2023-07-09T10:08:53.277486",
     "exception": false,
     "start_time": "2023-07-09T10:08:29.242140",
     "status": "completed"
    },
    "tags": []
   },
   "outputs": [
    {
     "name": "stdout",
     "output_type": "stream",
     "text": [
      "[Snap ML] Training time (s):  24.00\n"
     ]
    }
   ],
   "source": [
    "t0 = time.time()\n",
    "model = snapml_svm.fit(X_train, y_train)\n",
    "snapml_time = time.time() - t0\n",
    "print(\"[Snap ML] Training time (s):  {0:.2f}\".format(snapml_time))"
   ]
  },
  {
   "cell_type": "code",
   "execution_count": 33,
   "id": "31429f1a",
   "metadata": {
    "execution": {
     "iopub.execute_input": "2023-07-09T10:08:53.340586Z",
     "iopub.status.busy": "2023-07-09T10:08:53.340142Z",
     "iopub.status.idle": "2023-07-09T10:08:53.406194Z",
     "shell.execute_reply": "2023-07-09T10:08:53.405059Z"
    },
    "papermill": {
     "duration": 0.09964,
     "end_time": "2023-07-09T10:08:53.408850",
     "exception": false,
     "start_time": "2023-07-09T10:08:53.309210",
     "status": "completed"
    },
    "tags": []
   },
   "outputs": [],
   "source": [
    "prediction=snapml_svm.predict(X_test)"
   ]
  },
  {
   "cell_type": "code",
   "execution_count": 34,
   "id": "4cfd8623",
   "metadata": {
    "execution": {
     "iopub.execute_input": "2023-07-09T10:08:53.470336Z",
     "iopub.status.busy": "2023-07-09T10:08:53.469896Z",
     "iopub.status.idle": "2023-07-09T10:08:54.657532Z",
     "shell.execute_reply": "2023-07-09T10:08:54.656262Z"
    },
    "papermill": {
     "duration": 1.221497,
     "end_time": "2023-07-09T10:08:54.660131",
     "exception": false,
     "start_time": "2023-07-09T10:08:53.438634",
     "status": "completed"
    },
    "tags": []
   },
   "outputs": [
    {
     "name": "stdout",
     "output_type": "stream",
     "text": [
      "Accuracy: 0.9469570621508601\n",
      "Confusion Matrix:\n",
      "[[807720  45225]\n",
      " [    96   1380]]\n"
     ]
    }
   ],
   "source": [
    "from sklearn.metrics import accuracy_score, confusion_matrix\n",
    "\n",
    "accuracy = accuracy_score(y_test, prediction)\n",
    "print(\"Accuracy:\", accuracy)\n",
    "\n",
    "confusion_matrix = confusion_matrix(y_test, prediction)\n",
    "print(\"Confusion Matrix:\")\n",
    "print(confusion_matrix)"
   ]
  },
  {
   "cell_type": "markdown",
   "id": "b76bb8be",
   "metadata": {
    "papermill": {
     "duration": 0.02807,
     "end_time": "2023-07-09T10:08:54.717705",
     "exception": false,
     "start_time": "2023-07-09T10:08:54.689635",
     "status": "completed"
    },
    "tags": []
   },
   "source": [
    "<div id=\"svm_sklearn_snap\">\n",
    "    <h1>Evaluate the Scikit-Learn and Snap ML Support Vector Machine Models</h1>\n",
    "</div>\n"
   ]
  },
  {
   "cell_type": "markdown",
   "id": "a261d21d",
   "metadata": {
    "papermill": {
     "duration": 0.028468,
     "end_time": "2023-07-09T10:08:54.775845",
     "exception": false,
     "start_time": "2023-07-09T10:08:54.747377",
     "status": "completed"
    },
    "tags": []
   },
   "source": [
    "Let's examine the Snap ML vs Scikit-Learn training speedup for the SVM models:\n"
   ]
  },
  {
   "cell_type": "code",
   "execution_count": 35,
   "id": "852d3859",
   "metadata": {
    "execution": {
     "iopub.execute_input": "2023-07-09T10:08:54.836909Z",
     "iopub.status.busy": "2023-07-09T10:08:54.836497Z",
     "iopub.status.idle": "2023-07-09T10:08:54.843220Z",
     "shell.execute_reply": "2023-07-09T10:08:54.841302Z"
    },
    "papermill": {
     "duration": 0.04151,
     "end_time": "2023-07-09T10:08:54.846009",
     "exception": false,
     "start_time": "2023-07-09T10:08:54.804499",
     "status": "completed"
    },
    "tags": []
   },
   "outputs": [
    {
     "name": "stdout",
     "output_type": "stream",
     "text": [
      "[Support Vector Machine] Snap ML vs. Scikit-Learn training speedup : 3.39x \n"
     ]
    }
   ],
   "source": [
    "# compute the Snap ML vs Scikit-Learn training speedup\n",
    "training_speedup = sklearn_time/snapml_time\n",
    "print('[Support Vector Machine] Snap ML vs. Scikit-Learn training speedup : {0:.2f}x '.format(training_speedup))"
   ]
  },
  {
   "cell_type": "markdown",
   "id": "38e201a9",
   "metadata": {
    "papermill": {
     "duration": 0.028937,
     "end_time": "2023-07-09T10:08:54.905752",
     "exception": false,
     "start_time": "2023-07-09T10:08:54.876815",
     "status": "completed"
    },
    "tags": []
   },
   "source": [
    "Let's run inference on both models and get the confidence scores of the test samples. \n"
   ]
  },
  {
   "cell_type": "code",
   "execution_count": 36,
   "id": "6e1e6f33",
   "metadata": {
    "execution": {
     "iopub.execute_input": "2023-07-09T10:08:54.969062Z",
     "iopub.status.busy": "2023-07-09T10:08:54.968651Z",
     "iopub.status.idle": "2023-07-09T10:08:55.089436Z",
     "shell.execute_reply": "2023-07-09T10:08:55.087609Z"
    },
    "papermill": {
     "duration": 0.157349,
     "end_time": "2023-07-09T10:08:55.094464",
     "exception": false,
     "start_time": "2023-07-09T10:08:54.937115",
     "status": "completed"
    },
    "tags": []
   },
   "outputs": [],
   "source": [
    "sklearn_pred = sklearn_svm.decision_function(X_test)\n",
    "snapml_pred = snapml_svm.decision_function(X_test)"
   ]
  },
  {
   "cell_type": "markdown",
   "id": "7e48a981",
   "metadata": {
    "papermill": {
     "duration": 0.03134,
     "end_time": "2023-07-09T10:08:55.175251",
     "exception": false,
     "start_time": "2023-07-09T10:08:55.143911",
     "status": "completed"
    },
    "tags": []
   },
   "source": [
    "We evaluate the **ROC-AUC score** of the predictions of both models:\n"
   ]
  },
  {
   "cell_type": "code",
   "execution_count": 37,
   "id": "0cc5da7b",
   "metadata": {
    "execution": {
     "iopub.execute_input": "2023-07-09T10:08:55.237190Z",
     "iopub.status.busy": "2023-07-09T10:08:55.236801Z",
     "iopub.status.idle": "2023-07-09T10:08:56.089695Z",
     "shell.execute_reply": "2023-07-09T10:08:56.088264Z"
    },
    "papermill": {
     "duration": 0.888094,
     "end_time": "2023-07-09T10:08:56.092495",
     "exception": false,
     "start_time": "2023-07-09T10:08:55.204401",
     "status": "completed"
    },
    "tags": []
   },
   "outputs": [
    {
     "name": "stdout",
     "output_type": "stream",
     "text": [
      "[Scikit-Learn] ROC-AUC score:   0.984\n",
      "[Snap ML] ROC-AUC score:   0.985\n"
     ]
    }
   ],
   "source": [
    "acc_sklearn  = roc_auc_score(y_test, sklearn_pred)\n",
    "print(\"[Scikit-Learn] ROC-AUC score:   {0:.3f}\".format(acc_sklearn))\n",
    "\n",
    "acc_snapml  = roc_auc_score(y_test, snapml_pred)\n",
    "print(\"[Snap ML] ROC-AUC score:   {0:.3f}\".format(acc_snapml))"
   ]
  },
  {
   "cell_type": "markdown",
   "id": "2114728b",
   "metadata": {
    "papermill": {
     "duration": 0.030698,
     "end_time": "2023-07-09T10:08:56.153416",
     "exception": false,
     "start_time": "2023-07-09T10:08:56.122718",
     "status": "completed"
    },
    "tags": []
   },
   "source": [
    "As shown above both SVM models provide the same score on the test dataset. However, as in the case of Decision Trees, Snap ML runs the training routine faster than Scikit-Learn. For more Snap ML examples, please visit [here](https://ibm.biz/BdPfxB?utm_medium=Exinfluencer&utm_source=Exinfluencer&utm_content=000026UJ&utm_term=10006555&utm_id=NA-SkillsNetwork-Channel-SkillsNetworkGuidedProjectsIBMGPXX0RHPEN82-2022-01-01). \n",
    "\n",
    "Moreover, as shown above, not only is Snap ML seemlessly accelerating scikit-learn applications, but the library's Python API is also compatible with scikit-learn metrics and data preprocessors.\n"
   ]
  },
  {
   "cell_type": "markdown",
   "id": "2952d137",
   "metadata": {
    "papermill": {
     "duration": 0.030107,
     "end_time": "2023-07-09T10:08:56.214662",
     "exception": false,
     "start_time": "2023-07-09T10:08:56.184555",
     "status": "completed"
    },
    "tags": []
   },
   "source": [
    "# Hinge loss Metric"
   ]
  },
  {
   "cell_type": "markdown",
   "id": "91afb8dd",
   "metadata": {
    "papermill": {
     "duration": 0.030895,
     "end_time": "2023-07-09T10:08:56.275430",
     "exception": false,
     "start_time": "2023-07-09T10:08:56.244535",
     "status": "completed"
    },
    "tags": []
   },
   "source": [
    "In this Section you will:\n",
    "\n",
    "- Run inference on the test set using both Scikit-Learn and Snap ML models. \n",
    "- Evaluate the quality of the SVM models trained above using the [hinge loss metric](https://scikit-learn.org/stable/modules/generated/sklearn.metrics.hinge_loss.html?utm_medium=Exinfluencer&utm_source=Exinfluencer&utm_content=000026UJ&utm_term=10006555&utm_id=NA-SkillsNetwork-Channel-SkillsNetworkGuidedProjectsIBMGPXX0RHPEN82-2022-01-01). \n",
    "- Compute and print the hinge loss metric for both sets of predictions **(the two models should give the similar Hinge loss)**.\n"
   ]
  },
  {
   "cell_type": "code",
   "execution_count": 38,
   "id": "5902a872",
   "metadata": {
    "execution": {
     "iopub.execute_input": "2023-07-09T10:08:56.338748Z",
     "iopub.status.busy": "2023-07-09T10:08:56.338252Z",
     "iopub.status.idle": "2023-07-09T10:08:56.901432Z",
     "shell.execute_reply": "2023-07-09T10:08:56.900149Z"
    },
    "papermill": {
     "duration": 0.599968,
     "end_time": "2023-07-09T10:08:56.905761",
     "exception": false,
     "start_time": "2023-07-09T10:08:56.305793",
     "status": "completed"
    },
    "tags": []
   },
   "outputs": [
    {
     "name": "stdout",
     "output_type": "stream",
     "text": [
      "[Scikit-Learn] Hinge loss:   0.234\n",
      "[Snap ML] Hinge loss:   0.228\n"
     ]
    }
   ],
   "source": [
    "from sklearn.metrics import hinge_loss\n",
    "\n",
    "# get the confidence scores for the test samples\n",
    "sklearn_pred = sklearn_svm.decision_function(X_test)\n",
    "snapml_pred  = snapml_svm.decision_function(X_test)\n",
    "\n",
    "# evaluate the hinge loss metric for Sklearn\n",
    "loss_sklearn = hinge_loss(y_test, sklearn_pred)\n",
    "print(\"[Scikit-Learn] Hinge loss:   {0:.3f}\".format(loss_sklearn))\n",
    "\n",
    "# evaluate the hinge loss for Snap ML\n",
    "loss_snapml = hinge_loss(y_test, snapml_pred)\n",
    "print(\"[Snap ML] Hinge loss:   {0:.3f}\".format(loss_snapml))"
   ]
  }
 ],
 "metadata": {
  "kernelspec": {
   "display_name": "Python 3",
   "language": "python",
   "name": "python3"
  },
  "language_info": {
   "codemirror_mode": {
    "name": "ipython",
    "version": 3
   },
   "file_extension": ".py",
   "mimetype": "text/x-python",
   "name": "python",
   "nbconvert_exporter": "python",
   "pygments_lexer": "ipython3",
   "version": "3.10.10"
  },
  "papermill": {
   "default_parameters": {},
   "duration": 219.553456,
   "end_time": "2023-07-09T10:08:58.166030",
   "environment_variables": {},
   "exception": null,
   "input_path": "__notebook__.ipynb",
   "output_path": "__notebook__.ipynb",
   "parameters": {},
   "start_time": "2023-07-09T10:05:18.612574",
   "version": "2.4.0"
  }
 },
 "nbformat": 4,
 "nbformat_minor": 5
}
